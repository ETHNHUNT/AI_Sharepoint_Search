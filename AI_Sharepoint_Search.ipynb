{
 "cells": [
  {
   "cell_type": "code",
   "execution_count": 8,
   "metadata": {},
   "outputs": [
    {
     "name": "stdout",
     "output_type": "stream",
     "text": [
      "Error: 400 {\"error\":\"invalid_request\",\"error_description\":\"AADSTS900023: Specified tenant identifier 'your-tenent-id' is neither a valid DNS name, nor a valid external domain. Trace ID: 8d023769-45e5-4782-ba0a-c3cda2c85400 Correlation ID: 56284c0e-511b-4310-bc7e-90c2d98c19d5 Timestamp: 2025-03-03 20:47:25Z\",\"error_codes\":[900023],\"timestamp\":\"2025-03-03 20:47:25Z\",\"trace_id\":\"8d023769-45e5-4782-ba0a-c3cda2c85400\",\"correlation_id\":\"56284c0e-511b-4310-bc7e-90c2d98c19d5\",\"error_uri\":\"https://login.microsoftonline.com/error?code=900023\"}\n"
     ]
    }
   ],
   "source": [
    "import requests\n",
    "\n",
    "# Replace with your actual credentials\n",
    "tenant_id = \"your-tenent-id\"\n",
    "client_id = \"your-client-id\"\n",
    "client_secret = \"your-client-secret\"\n",
    "\n",
    "# Ensure \"resource\" is set to your SharePoint domain\n",
    "resource = \"https://graph.microsoft.com\"  # ✅ This should match your SharePoint domain\n",
    "\n",
    "token_url = f\"https://login.microsoftonline.com/{tenant_id}/oauth2/token\"\n",
    "\n",
    "payload = {\n",
    "    \"grant_type\": \"client_credentials\",\n",
    "    \"client_id\": client_id,\n",
    "    \"client_secret\": client_secret,\n",
    "    \"resource\": resource  # ✅ Check that this matches your SharePoint site\n",
    "}\n",
    "\n",
    "response = requests.post(token_url, data=payload)\n",
    "\n",
    "if response.status_code == 200:\n",
    "    access_token = response.json().get(\"access_token\")\n",
    "    print(\"Access Token:\", access_token)\n",
    "else:\n",
    "    print(\"Error:\", response.status_code, response.text)"
   ]
  },
  {
   "cell_type": "code",
   "execution_count": 3,
   "metadata": {},
   "outputs": [
    {
     "name": "stdout",
     "output_type": "stream",
     "text": [
      "Full API Response: {'@odata.context': 'https://graph.microsoft.com/v1.0/$metadata#sites', 'value': [{'createdDateTime': '2025-02-26T21:09:34Z', 'id': 'senecazz.sharepoint.com,d699f9b4-d438-4725-b214-b6ce8f8ecae4,3cb11767-f403-4e85-926a-630ddfd8abde', 'name': 'Project Test', 'webUrl': 'https://senecazz.sharepoint.com/sites/ProjectTest', 'displayName': 'Project Test', 'isPersonalSite': False, 'siteCollection': {'hostname': 'senecazz.sharepoint.com'}, 'root': {}}, {'createdDateTime': '2025-02-26T21:05:59Z', 'id': 'senecazz-my.sharepoint.com,d1ea8356-480e-4a63-ba8d-57cdc7cec472,be7fe72c-68a8-4246-ab61-81424ab7909b', 'name': 'Vipin Nandal', 'webUrl': 'https://senecazz-my.sharepoint.com/personal/vipinnandal_senecazz_onmicrosoft_com', 'displayName': 'Vipin Nandal', 'isPersonalSite': True, 'siteCollection': {'hostname': 'senecazz-my.sharepoint.com'}, 'root': {}}, {'createdDateTime': '2025-02-26T20:55:02Z', 'id': 'senecazz.sharepoint.com,a8e50567-bbb8-4005-b0e3-befe21dc0558,894754f5-859f-43be-b311-459652308f6d', 'name': 'Team Site', 'webUrl': 'https://senecazz.sharepoint.com/sites/contentTypeHub', 'displayName': 'Team Site', 'isPersonalSite': False, 'siteCollection': {'hostname': 'senecazz.sharepoint.com'}, 'root': {}}, {'createdDateTime': '2025-02-26T20:54:55Z', 'id': 'senecazz.sharepoint.com,4bb3a40c-1237-4d6a-a9fa-cdf7098f9800,af4974e1-dc30-42fa-9c65-8ba92cb47181', 'webUrl': 'https://senecazz.sharepoint.com/search', 'isPersonalSite': False, 'siteCollection': {'hostname': 'senecazz.sharepoint.com'}, 'root': {}}, {'createdDateTime': '2025-02-26T20:52:35Z', 'id': 'senecazz.sharepoint.com,5bb92f6a-3531-4c0d-b14e-61d43890b013,3cb11767-f403-4e85-926a-630ddfd8abde', 'name': 'All Company', 'webUrl': 'https://senecazz.sharepoint.com/sites/allcompany', 'displayName': 'All Company', 'isPersonalSite': False, 'siteCollection': {'hostname': 'senecazz.sharepoint.com'}, 'root': {}}, {'createdDateTime': '2025-02-26T20:49:32Z', 'id': 'senecazz.sharepoint.com,e33fc6bd-0b62-487c-bef9-69f288692b2d,213f276c-454f-4751-8566-3c543d0fa47c', 'name': 'Communication site', 'webUrl': 'https://senecazz.sharepoint.com/', 'displayName': 'Communication site', 'isPersonalSite': False, 'siteCollection': {'hostname': 'senecazz.sharepoint.com'}, 'root': {}}]}\n",
      "\n",
      "SharePoint Sites:\n",
      "- Project Test (ID: senecazz.sharepoint.com,d699f9b4-d438-4725-b214-b6ce8f8ecae4,3cb11767-f403-4e85-926a-630ddfd8abde)\n",
      "- Vipin Nandal (ID: senecazz-my.sharepoint.com,d1ea8356-480e-4a63-ba8d-57cdc7cec472,be7fe72c-68a8-4246-ab61-81424ab7909b)\n",
      "- Team Site (ID: senecazz.sharepoint.com,a8e50567-bbb8-4005-b0e3-befe21dc0558,894754f5-859f-43be-b311-459652308f6d)\n",
      "- Unknown Site (ID: senecazz.sharepoint.com,4bb3a40c-1237-4d6a-a9fa-cdf7098f9800,af4974e1-dc30-42fa-9c65-8ba92cb47181)\n",
      "- All Company (ID: senecazz.sharepoint.com,5bb92f6a-3531-4c0d-b14e-61d43890b013,3cb11767-f403-4e85-926a-630ddfd8abde)\n",
      "- Communication site (ID: senecazz.sharepoint.com,e33fc6bd-0b62-487c-bef9-69f288692b2d,213f276c-454f-4751-8566-3c543d0fa47c)\n"
     ]
    }
   ],
   "source": [
    "headers = {\n",
    "    \"Authorization\": f\"Bearer {access_token}\",\n",
    "    \"Accept\": \"application/json\"\n",
    "}\n",
    "\n",
    "# Microsoft Graph API endpoint to list SharePoint sites\n",
    "graph_api_url = \"https://graph.microsoft.com/v1.0/sites\"\n",
    "\n",
    "response = requests.get(graph_api_url, headers=headers)\n",
    "\n",
    "if response.status_code == 200:\n",
    "    data = response.json()\n",
    "    \n",
    "    # ✅ Print full response to inspect available fields\n",
    "    print(\"Full API Response:\", data)\n",
    "    \n",
    "    print(\"\\nSharePoint Sites:\")\n",
    "    for site in data.get(\"value\", []):\n",
    "        # ✅ Use correct field names from API response\n",
    "        site_name = site.get(\"displayName\", \"Unknown Site\")  # Fix: Use 'displayName'\n",
    "        site_id = site.get(\"id\", \"No ID Available\")  # Fix: Ensure 'id' exists\n",
    "        \n",
    "        print(f\"- {site_name} (ID: {site_id})\")\n",
    "else:\n",
    "    print(\"Error:\", response.status_code, response.text)"
   ]
  },
  {
   "cell_type": "code",
   "execution_count": null,
   "metadata": {},
   "outputs": [
    {
     "name": "stdout",
     "output_type": "stream",
     "text": [
      "Drive ID for 'Project Test': b!tPmZ1jjUJUeyFLbOj47K5GcXsTwD9IVOkmpjDd_Yq97LTtIsTRVCQ442jQCQ8Nfn\n"
     ]
    }
   ],
   "source": [
    "site_id = \"your-site-id\"  # ✅ Replace with the correct Site ID\n",
    "\n",
    "headers = {\n",
    "    \"Authorization\": f\"Bearer {access_token}\",\n",
    "    \"Accept\": \"application/json\"\n",
    "}\n",
    "\n",
    "# Microsoft Graph API endpoint to get Drive ID for the site\n",
    "graph_api_url = f\"https://graph.microsoft.com/v1.0/sites/{site_id}/drive\"\n",
    "\n",
    "response = requests.get(graph_api_url, headers=headers)\n",
    "\n",
    "if response.status_code == 200:\n",
    "    data = response.json()\n",
    "    drive_id = data.get(\"id\")\n",
    "    print(f\"Drive ID for 'Project Test': {drive_id}\")\n",
    "else:\n",
    "    print(\"Error:\", response.status_code, response.text)"
   ]
  },
  {
   "cell_type": "code",
   "execution_count": null,
   "metadata": {},
   "outputs": [
    {
     "name": "stdout",
     "output_type": "stream",
     "text": [
      "All Documents in 'Shared Documents':\n",
      "- Test (URL: https://senecazz.sharepoint.com/sites/ProjectTest/Shared%20Documents/Test)\n",
      "- assignment-5.pdf (URL: https://senecazz.sharepoint.com/sites/ProjectTest/Shared%20Documents/assignment-5.pdf)\n",
      "- Machine Learning Deployment Assignment.pdf (URL: https://senecazz.sharepoint.com/sites/ProjectTest/Shared%20Documents/Machine%20Learning%20Deployment%20Assignment.pdf)\n",
      "- Project_1.pdf (URL: https://senecazz.sharepoint.com/sites/ProjectTest/Shared%20Documents/Project_1.pdf)\n",
      "- Worksheet5_Sobel.pdf (URL: https://senecazz.sharepoint.com/sites/ProjectTest/Shared%20Documents/Worksheet5_Sobel.pdf)\n"
     ]
    }
   ],
   "source": [
    "drive_id = \"your-drive-id\"  # ✅ Replace with the correct Drive ID\n",
    "graph_api_url = f\"https://graph.microsoft.com/v1.0/drives/{drive_id}/root/children\"\n",
    "\n",
    "headers = {\n",
    "    \"Authorization\": f\"Bearer {access_token}\",\n",
    "    \"Accept\": \"application/json\"\n",
    "}\n",
    "response = requests.get(graph_api_url, headers=headers)\n",
    "\n",
    "documents = []\n",
    "\n",
    "if response.status_code == 200:\n",
    "    data = response.json()\n",
    "    print(\"All Documents in 'Shared Documents':\")\n",
    "    for file in data.get(\"value\", []):\n",
    "        doc = {\n",
    "            \"name\": file[\"name\"],\n",
    "            \"url\": file[\"webUrl\"],\n",
    "            \"id\": file[\"id\"],\n",
    "        }\n",
    "        documents.append(doc)\n",
    "        print(f\"- {doc['name']} (URL: {doc['url']})\")\n",
    "else:\n",
    "    print(\"Error:\", response.status_code, response.text)\n"
   ]
  },
  {
   "cell_type": "code",
   "execution_count": 9,
   "metadata": {},
   "outputs": [
    {
     "name": "stdout",
     "output_type": "stream",
     "text": [
      "✅ FAISS index and document metadata saved!\n"
     ]
    }
   ],
   "source": [
    "import faiss\n",
    "import numpy as np\n",
    "import pickle\n",
    "import ollama\n",
    "\n",
    "\n",
    "# Set the correct embedding dimension (3072 for Llama 3.2)\n",
    "embedding_dim = 3072\n",
    "index = faiss.IndexFlatIP(embedding_dim)\n",
    "\n",
    "doc_embeddings = []\n",
    "doc_metadata = []  # Store metadata for each document\n",
    "\n",
    "for doc in documents:\n",
    "    text_to_embed = f\"Document: {doc['name']} - URL: {doc['url']}\"\n",
    "    # Generate embedding using Ollama Llama 3.2\n",
    "    embedding = ollama.embeddings(\"llama3.2\", text_to_embed)[\"embedding\"]\n",
    "    vector = np.array(embedding, dtype=np.float32)\n",
    "    doc_embeddings.append(vector)\n",
    "    doc_metadata.append(doc)  # Save metadata\n",
    "\n",
    "# Convert embeddings to a NumPy array and add to FAISS index\n",
    "doc_embeddings = np.vstack(doc_embeddings)\n",
    "index.add(doc_embeddings)\n",
    "\n",
    "# Save the FAISS index to a file\n",
    "faiss.write_index(index, \"sharepoint_index.faiss\")\n",
    "\n",
    "# Save the document metadata (doc_metadata) to a pickle file\n",
    "with open(\"doc_metadata.pkl\", \"wb\") as f:\n",
    "    pickle.dump(doc_metadata, f)\n",
    "\n",
    "print(\"✅ FAISS index and document metadata saved!\")"
   ]
  },
  {
   "cell_type": "code",
   "execution_count": 10,
   "metadata": {},
   "outputs": [
    {
     "name": "stdout",
     "output_type": "stream",
     "text": [
      "Loaded FAISS index and document metadata successfully.\n",
      "* Running on local URL:  http://127.0.0.1:7861\n",
      "\n",
      "To create a public link, set `share=True` in `launch()`.\n"
     ]
    },
    {
     "data": {
      "text/html": [
       "<div><iframe src=\"http://127.0.0.1:7861/\" width=\"100%\" height=\"500\" allow=\"autoplay; camera; microphone; clipboard-read; clipboard-write;\" frameborder=\"0\" allowfullscreen></iframe></div>"
      ],
      "text/plain": [
       "<IPython.core.display.HTML object>"
      ]
     },
     "metadata": {},
     "output_type": "display_data"
    },
    {
     "data": {
      "text/plain": []
     },
     "execution_count": 10,
     "metadata": {},
     "output_type": "execute_result"
    }
   ],
   "source": [
    "import gradio as gr\n",
    "\n",
    "# Load FAISS index & document metadata\n",
    "try:\n",
    "    index = faiss.read_index(\"sharepoint_index.faiss\")\n",
    "    with open(\"doc_metadata.pkl\", \"rb\") as f:\n",
    "        doc_metadata = pickle.load(f)\n",
    "    print(\"Loaded FAISS index and document metadata successfully.\")\n",
    "except Exception as e:\n",
    "    print(\"Error loading index or metadata:\", e)\n",
    "    doc_metadata = []\n",
    "    index = None\n",
    "\n",
    "def search_documents(query, k=3):\n",
    "    \"\"\"\n",
    "    Uses Ollama Llama 3.2 embeddings + FAISS to return top k matches.\n",
    "    We'll format results in Markdown for clickable links.\n",
    "    \"\"\"\n",
    "    if index is None or len(doc_metadata) == 0:\n",
    "        return \"Error: No index available. Please rebuild the index first.\"\n",
    "    \n",
    "    # Get embedding for the query\n",
    "    result = ollama.embeddings(\"llama3.2\", query)\n",
    "    query_embedding = result[\"embedding\"]\n",
    "    query_vector = np.array(query_embedding, dtype=np.float32).reshape(1, -1)\n",
    "    \n",
    "    # Search in FAISS\n",
    "    distances, indices = index.search(query_vector, k)\n",
    "    \n",
    "    # Build Markdown output\n",
    "    md_output = [\"**Search Results**\"]\n",
    "    for idx in indices[0]:\n",
    "        doc = doc_metadata[idx]\n",
    "        # Create a clickable link in Markdown\n",
    "        md_output.append(f\"- [{doc['name']}]({doc['url']})\")\n",
    "    \n",
    "    # Join results into a single Markdown string\n",
    "    return \"\\n\".join(md_output)\n",
    "\n",
    "iface = gr.Interface(\n",
    "    fn=search_documents,\n",
    "    inputs=gr.Textbox(lines=2, label=\"Search Query\"),\n",
    "    # ✅ Use Markdown output for clickable links\n",
    "    outputs=gr.Markdown(label=\"Search Results\"),\n",
    "    title=\"SharePoint Natural Language Search\",\n",
    "    description=\"Enter a natural language query to search documents in the SharePoint site using Ollama Llama 3.2 and FAISS.\"\n",
    ")\n",
    "\n",
    "iface.launch()"
   ]
  },
  {
   "cell_type": "code",
   "execution_count": null,
   "metadata": {},
   "outputs": [],
   "source": []
  },
  {
   "cell_type": "code",
   "execution_count": null,
   "metadata": {},
   "outputs": [],
   "source": []
  }
 ],
 "metadata": {
  "kernelspec": {
   "display_name": "Python 3",
   "language": "python",
   "name": "python3"
  },
  "language_info": {
   "codemirror_mode": {
    "name": "ipython",
    "version": 3
   },
   "file_extension": ".py",
   "mimetype": "text/x-python",
   "name": "python",
   "nbconvert_exporter": "python",
   "pygments_lexer": "ipython3",
   "version": "3.12.4"
  }
 },
 "nbformat": 4,
 "nbformat_minor": 2
}
